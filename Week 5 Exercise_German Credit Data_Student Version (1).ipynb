{
 "cells": [
  {
   "cell_type": "markdown",
   "metadata": {},
   "source": [
    "# Week 5 Exercise: German Credit Data \n",
    "\n"
   ]
  },
  {
   "cell_type": "markdown",
   "metadata": {},
   "source": [
    "## Step 1: Data Preprecessing\n",
    "\n",
    "#### Q1. Given the background,  why would you create a decision tree model on this dataset?\n",
    "\n",
    "In this step, you need to read the data, have an overview of the data, and perform label encoding for both the predictors and target variable.\n",
    "\n",
    "1. first let's read the data.\n",
    "\n",
    "##### code for reference:\n",
    "import pandas as pd\n",
    "\n",
    "credit = pd.read_csv(\"your path /credit.csv\")\n",
    "\n",
    "credit.head()\n",
    "\n",
    "credit.shape"
   ]
  },
  {
   "cell_type": "code",
   "execution_count": 15,
   "metadata": {
    "colab": {
     "base_uri": "https://localhost:8080/",
     "height": 35
    },
    "executionInfo": {
     "elapsed": 18097,
     "status": "ok",
     "timestamp": 1601699603132,
     "user": {
      "displayName": "Xiqing Sha",
      "photoUrl": "",
      "userId": "00149820978001691006"
     },
     "user_tz": 420
    },
    "id": "yl53qt9DNA0E",
    "outputId": "fb4eb934-2cee-427b-abd5-87b134181a9f"
   },
   "outputs": [],
   "source": [
    "import pandas as pd"
   ]
  },
  {
   "cell_type": "code",
   "execution_count": 16,
   "metadata": {},
   "outputs": [],
   "source": [
    "credit = pd.read_csv(\"D:/ASU Classes/CIS 508/credit.csv\")"
   ]
  },
  {
   "cell_type": "code",
   "execution_count": 17,
   "metadata": {},
   "outputs": [
    {
     "data": {
      "text/html": [
       "<div>\n",
       "<style scoped>\n",
       "    .dataframe tbody tr th:only-of-type {\n",
       "        vertical-align: middle;\n",
       "    }\n",
       "\n",
       "    .dataframe tbody tr th {\n",
       "        vertical-align: top;\n",
       "    }\n",
       "\n",
       "    .dataframe thead th {\n",
       "        text-align: right;\n",
       "    }\n",
       "</style>\n",
       "<table border=\"1\" class=\"dataframe\">\n",
       "  <thead>\n",
       "    <tr style=\"text-align: right;\">\n",
       "      <th></th>\n",
       "      <th>checking_balance</th>\n",
       "      <th>months_loan_duration</th>\n",
       "      <th>credit_history</th>\n",
       "      <th>purpose</th>\n",
       "      <th>amount</th>\n",
       "      <th>savings_balance</th>\n",
       "      <th>employment_duration</th>\n",
       "      <th>percent_of_income</th>\n",
       "      <th>years_at_residence</th>\n",
       "      <th>age</th>\n",
       "      <th>other_credit</th>\n",
       "      <th>housing</th>\n",
       "      <th>existing_loans_count</th>\n",
       "      <th>job</th>\n",
       "      <th>dependents</th>\n",
       "      <th>phone</th>\n",
       "      <th>default</th>\n",
       "    </tr>\n",
       "  </thead>\n",
       "  <tbody>\n",
       "    <tr>\n",
       "      <th>0</th>\n",
       "      <td>A11</td>\n",
       "      <td>6</td>\n",
       "      <td>A34</td>\n",
       "      <td>A43</td>\n",
       "      <td>1169</td>\n",
       "      <td>A65</td>\n",
       "      <td>A75</td>\n",
       "      <td>4</td>\n",
       "      <td>4</td>\n",
       "      <td>67</td>\n",
       "      <td>A143</td>\n",
       "      <td>A152</td>\n",
       "      <td>2</td>\n",
       "      <td>A173</td>\n",
       "      <td>1</td>\n",
       "      <td>A192</td>\n",
       "      <td>no</td>\n",
       "    </tr>\n",
       "    <tr>\n",
       "      <th>1</th>\n",
       "      <td>A12</td>\n",
       "      <td>48</td>\n",
       "      <td>A32</td>\n",
       "      <td>A43</td>\n",
       "      <td>5951</td>\n",
       "      <td>A61</td>\n",
       "      <td>A73</td>\n",
       "      <td>2</td>\n",
       "      <td>2</td>\n",
       "      <td>22</td>\n",
       "      <td>A143</td>\n",
       "      <td>A152</td>\n",
       "      <td>1</td>\n",
       "      <td>A173</td>\n",
       "      <td>1</td>\n",
       "      <td>A191</td>\n",
       "      <td>yes</td>\n",
       "    </tr>\n",
       "    <tr>\n",
       "      <th>2</th>\n",
       "      <td>A14</td>\n",
       "      <td>12</td>\n",
       "      <td>A34</td>\n",
       "      <td>A46</td>\n",
       "      <td>2096</td>\n",
       "      <td>A61</td>\n",
       "      <td>A74</td>\n",
       "      <td>2</td>\n",
       "      <td>3</td>\n",
       "      <td>49</td>\n",
       "      <td>A143</td>\n",
       "      <td>A152</td>\n",
       "      <td>1</td>\n",
       "      <td>A172</td>\n",
       "      <td>2</td>\n",
       "      <td>A191</td>\n",
       "      <td>no</td>\n",
       "    </tr>\n",
       "    <tr>\n",
       "      <th>3</th>\n",
       "      <td>A11</td>\n",
       "      <td>42</td>\n",
       "      <td>A32</td>\n",
       "      <td>A42</td>\n",
       "      <td>7882</td>\n",
       "      <td>A61</td>\n",
       "      <td>A74</td>\n",
       "      <td>2</td>\n",
       "      <td>4</td>\n",
       "      <td>45</td>\n",
       "      <td>A143</td>\n",
       "      <td>A153</td>\n",
       "      <td>1</td>\n",
       "      <td>A173</td>\n",
       "      <td>2</td>\n",
       "      <td>A191</td>\n",
       "      <td>no</td>\n",
       "    </tr>\n",
       "    <tr>\n",
       "      <th>4</th>\n",
       "      <td>A11</td>\n",
       "      <td>24</td>\n",
       "      <td>A33</td>\n",
       "      <td>A40</td>\n",
       "      <td>4870</td>\n",
       "      <td>A61</td>\n",
       "      <td>A73</td>\n",
       "      <td>3</td>\n",
       "      <td>4</td>\n",
       "      <td>53</td>\n",
       "      <td>A143</td>\n",
       "      <td>A153</td>\n",
       "      <td>2</td>\n",
       "      <td>A173</td>\n",
       "      <td>2</td>\n",
       "      <td>A191</td>\n",
       "      <td>yes</td>\n",
       "    </tr>\n",
       "  </tbody>\n",
       "</table>\n",
       "</div>"
      ],
      "text/plain": [
       "  checking_balance  months_loan_duration credit_history purpose  amount  \\\n",
       "0              A11                     6            A34     A43    1169   \n",
       "1              A12                    48            A32     A43    5951   \n",
       "2              A14                    12            A34     A46    2096   \n",
       "3              A11                    42            A32     A42    7882   \n",
       "4              A11                    24            A33     A40    4870   \n",
       "\n",
       "  savings_balance employment_duration  percent_of_income  years_at_residence  \\\n",
       "0             A65                 A75                  4                   4   \n",
       "1             A61                 A73                  2                   2   \n",
       "2             A61                 A74                  2                   3   \n",
       "3             A61                 A74                  2                   4   \n",
       "4             A61                 A73                  3                   4   \n",
       "\n",
       "   age other_credit housing  existing_loans_count   job  dependents phone  \\\n",
       "0   67         A143    A152                     2  A173           1  A192   \n",
       "1   22         A143    A152                     1  A173           1  A191   \n",
       "2   49         A143    A152                     1  A172           2  A191   \n",
       "3   45         A143    A153                     1  A173           2  A191   \n",
       "4   53         A143    A153                     2  A173           2  A191   \n",
       "\n",
       "  default  \n",
       "0      no  \n",
       "1     yes  \n",
       "2      no  \n",
       "3      no  \n",
       "4     yes  "
      ]
     },
     "execution_count": 17,
     "metadata": {},
     "output_type": "execute_result"
    }
   ],
   "source": [
    "credit.head()"
   ]
  },
  {
   "cell_type": "code",
   "execution_count": 18,
   "metadata": {},
   "outputs": [
    {
     "data": {
      "text/plain": [
       "(1000, 17)"
      ]
     },
     "execution_count": 18,
     "metadata": {},
     "output_type": "execute_result"
    }
   ],
   "source": [
    "credit.shape"
   ]
  },
  {
   "cell_type": "markdown",
   "metadata": {},
   "source": [
    "2. Then you need to perform label encoding for predictors.\n",
    "\n",
    "##### code for reference:\n",
    "\n",
    "X = pd.get_dummies(credit.iloc[ ,] , drop_first = True)\n"
   ]
  },
  {
   "cell_type": "code",
   "execution_count": 19,
   "metadata": {
    "executionInfo": {
     "elapsed": 363,
     "status": "ok",
     "timestamp": 1601699605388,
     "user": {
      "displayName": "Xiqing Sha",
      "photoUrl": "",
      "userId": "00149820978001691006"
     },
     "user_tz": 420
    },
    "id": "OlVGcW7FNUHa"
   },
   "outputs": [],
   "source": [
    "X = pd.get_dummies(credit.iloc[ :,0:16] , drop_first = True)"
   ]
  },
  {
   "cell_type": "markdown",
   "metadata": {},
   "source": [
    "3. Then let's perform label encoding for the target variable.\n",
    "\n",
    "##### code for reference \n",
    "\n",
    "from sklearn.preprocessing import LabelEncoder\n",
    "\n",
    "labelencoder_credit = LabelEncoder()\n",
    "\n",
    "y = labelencoder_credit.fit_transform(credit['target variable name here'].values)"
   ]
  },
  {
   "cell_type": "code",
   "execution_count": 20,
   "metadata": {
    "executionInfo": {
     "elapsed": 821,
     "status": "ok",
     "timestamp": 1601699607073,
     "user": {
      "displayName": "Xiqing Sha",
      "photoUrl": "",
      "userId": "00149820978001691006"
     },
     "user_tz": 420
    },
    "id": "0KyvNI3WNOHb"
   },
   "outputs": [],
   "source": [
    "from sklearn.preprocessing import LabelEncoder\n",
    "\n",
    "labelencoder_credit = LabelEncoder()\n",
    "\n",
    "y = labelencoder_credit.fit_transform(credit['default'].values)"
   ]
  },
  {
   "cell_type": "markdown",
   "metadata": {},
   "source": [
    "4. Then let's split the data into training set and test set using 20% of the data (using random_state = 0).\n",
    "\n",
    "##### code for reference\n",
    "from sklearn.model_selection import train_test_split\n",
    "\n",
    "X_train, X_test, y_train, y_test = train_test_split(X, y, test_size=0.20, random_state=0)"
   ]
  },
  {
   "cell_type": "code",
   "execution_count": 21,
   "metadata": {
    "executionInfo": {
     "elapsed": 347,
     "status": "ok",
     "timestamp": 1601699610384,
     "user": {
      "displayName": "Xiqing Sha",
      "photoUrl": "",
      "userId": "00149820978001691006"
     },
     "user_tz": 420
    },
    "id": "fgT33wsQNdcq"
   },
   "outputs": [],
   "source": [
    "from sklearn.model_selection import train_test_split\n",
    "\n",
    "X_train, X_test, y_train, y_test = train_test_split(X, y, test_size=0.20, random_state=0)"
   ]
  },
  {
   "cell_type": "markdown",
   "metadata": {},
   "source": [
    "## Step 2: Build a Decision Tree\n",
    "\n",
    "#### Q2. Perform a single decision tree model to predict customers’ default status. What is the performance accuracy of the decision tree model on the test set?\n",
    "\n",
    "To answer this question, you will create a single decision tree model with default parameter values using **DecisionTreeClassifier** (set **random_state= 0**), and evaluate the decision tree model on the test set.\n",
    "\n",
    "\n",
    "1.  first we build a decision tree model and apply it on the test set using **predict()**. We get the accuracy on the test set using **accuracy_score()**.\n",
    "\n",
    "##### code for reference\n",
    "from sklearn.tree import DecisionTreeClassifier\n",
    "\n",
    "from sklearn.metrics import accuracy_score\n",
    "\n",
    "tree = DecisionTreeClassifier(random_state = 0)\n",
    "\n",
    "tree.fit(X_train, y_train)\n",
    "\n",
    "y_pred = tree.predict(X_test)\n",
    "\n",
    "print(\"Accuracy on test set: {:.3f}\".format(accuracy_score(y_pred, y_test)))"
   ]
  },
  {
   "cell_type": "code",
   "execution_count": 23,
   "metadata": {
    "executionInfo": {
     "elapsed": 970,
     "status": "ok",
     "timestamp": 1601699616190,
     "user": {
      "displayName": "Xiqing Sha",
      "photoUrl": "",
      "userId": "00149820978001691006"
     },
     "user_tz": 420
    },
    "id": "vgoSCJwjDcNm"
   },
   "outputs": [
    {
     "name": "stdout",
     "output_type": "stream",
     "text": [
      "Accuracy on test set: 0.680\n"
     ]
    }
   ],
   "source": [
    "from sklearn.tree import DecisionTreeClassifier\n",
    "\n",
    "from sklearn.metrics import accuracy_score\n",
    "\n",
    "tree = DecisionTreeClassifier(random_state = 0)\n",
    "\n",
    "tree.fit(X_train, y_train)\n",
    "\n",
    "y_pred = tree.predict(X_test)\n",
    "\n",
    "print(\"Accuracy on test set: {:.3f}\".format(accuracy_score(y_pred, y_test)))"
   ]
  },
  {
   "cell_type": "markdown",
   "metadata": {},
   "source": [
    "2. we also evaluate the model performance on the test set using ROC curve with **plot_roc_curve()**.\n",
    "\n",
    "##### code for reference\n",
    "\n",
    "from sklearn import metrics \n",
    "\n",
    "from matplotlib import pyplot as plt\n",
    "\n",
    "metrics.plot_roc_curve(tree, X_test, y_test) \n",
    "\n",
    "plt.show()"
   ]
  },
  {
   "cell_type": "code",
   "execution_count": 24,
   "metadata": {},
   "outputs": [
    {
     "name": "stderr",
     "output_type": "stream",
     "text": [
      "C:\\Users\\apere\\anaconda3\\lib\\site-packages\\sklearn\\utils\\deprecation.py:87: FutureWarning: Function plot_roc_curve is deprecated; Function :func:`plot_roc_curve` is deprecated in 1.0 and will be removed in 1.2. Use one of the class methods: :meth:`sklearn.metric.RocCurveDisplay.from_predictions` or :meth:`sklearn.metric.RocCurveDisplay.from_estimator`.\n",
      "  warnings.warn(msg, category=FutureWarning)\n"
     ]
    },
    {
     "data": {
      "image/png": "[encoded data removed]",
      "text/plain": [
       "<Figure size 640x480 with 1 Axes>"
      ]
     },
     "metadata": {},
     "output_type": "display_data"
    }
   ],
   "source": [
    "from sklearn import metrics\n",
    "\n",
    "from matplotlib import pyplot as plt\n",
    "\n",
    "metrics.plot_roc_curve(tree, X_test, y_test)\n",
    "\n",
    "plt.show()"
   ]
  },
  {
   "cell_type": "markdown",
   "metadata": {
    "id": "oYP4N8j2Qn3I"
   },
   "source": [
    "## Step 2: Cross Validation\n",
    "\n",
    "#### Q3. What is the model accuracy of the decision tree model after performing the cross validation?\n",
    "\n",
    "To answer this question, you need to performance cross validation using **cross_val_score**. Let's say we perform 5 fold cross validation.\n",
    "\n",
    "##### code for reference\n",
    "\n",
    "from sklearn.model_selection import cross_val_score\n",
    "\n",
    "\n",
    "scores = cross_val_score(tree, X, y, cv= 5)\n",
    "\n",
    "print(\"Accuracy scores of each fold: {}\".format(scores))\n",
    "\n",
    "print(\"Average cross-validation score: {:.2f}\".format(scores.mean()))"
   ]
  },
  {
   "cell_type": "code",
   "execution_count": 25,
   "metadata": {
    "colab": {
     "base_uri": "https://localhost:8080/",
     "height": 69
    },
    "executionInfo": {
     "elapsed": 376,
     "status": "ok",
     "timestamp": 1601531337323,
     "user": {
      "displayName": "Xiqing Sha",
      "photoUrl": "",
      "userId": "00149820978001691006"
     },
     "user_tz": 420
    },
    "id": "vpBfFqYCQnHl",
    "outputId": "782946ae-8c18-4555-ef53-1cd85db40fe8"
   },
   "outputs": [
    {
     "name": "stdout",
     "output_type": "stream",
     "text": [
      "Accuracy scores of each fold: [0.7   0.725 0.615 0.66  0.68 ]\n",
      "Average cross-validation score: 0.68\n"
     ]
    }
   ],
   "source": [
    "from sklearn.model_selection import cross_val_score\n",
    "\n",
    "scores = cross_val_score(tree, X, y, cv= 5)\n",
    "\n",
    "print(\"Accuracy scores of each fold: {}\".format(scores))\n",
    "\n",
    "print(\"Average cross-validation score: {:.2f}\".format(scores.mean()))"
   ]
  },
  {
   "cell_type": "markdown",
   "metadata": {
    "id": "MrUwXFLKVF7v"
   },
   "source": [
    "## Step 4: Emsemble Methods\n",
    "In this step you will perform serveral emsemble methods and improve the model performance.\n",
    "\n",
    "### Emsemble Method 1: Bagging \n",
    "\n",
    "#### Q4. Develop a bagging model (with 100 decision trees) on the training set and evaluate the model using the test set. What is the model performance? \n",
    "\n",
    "To answer this question, you need to create a bagging model using **BaggingClassifier** (with **n_estimator = 100**, **random_state= 0**), and apply it on the test using **.predict** method, and evaluate it using accuracy and AUC.\n",
    "\n",
    "1. First, create a bagging classifier using BaggingClassifer and apply it on the test set\n",
    "\n",
    "##### code for reference\n",
    "\n",
    "from sklearn.ensemble import BaggingClassifier\n",
    "\n",
    "bagging = BaggingClassifier(n_estimators=100, random_state=0)\n",
    "\n",
    "bagging.fit(X_train, y_train)\n",
    "\n",
    "y_bagging_pred = bagging.predict(X_test)\n",
    "\n",
    "print(\"Bagging Model Accuracy on test set: {:.3f}\".format(accuracy_score(y_test,y_bagging_pred)))\n"
   ]
  },
  {
   "cell_type": "code",
   "execution_count": 26,
   "metadata": {},
   "outputs": [
    {
     "name": "stdout",
     "output_type": "stream",
     "text": [
      "Bagging Model Accuracy on test set: 0.770\n"
     ]
    }
   ],
   "source": [
    "from sklearn.ensemble import BaggingClassifier\n",
    "\n",
    "bagging = BaggingClassifier(n_estimators=100, random_state=0)\n",
    "\n",
    "bagging.fit(X_train, y_train)\n",
    "\n",
    "y_bagging_pred = bagging.predict(X_test)\n",
    "\n",
    "print(\"Bagging Model Accuracy on test set: {:.3f}\".format(accuracy_score(y_test,y_bagging_pred)))"
   ]
  },
  {
   "cell_type": "markdown",
   "metadata": {},
   "source": [
    "2. Then we get the AUC for the bagging classifer using **plot_roc_curve**.\n",
    "\n",
    "##### code for reference\n",
    "\n",
    "metrics.plot_roc_curve(bagging, X_test, y_test)  \n",
    "\n",
    "plt.show() "
   ]
  },
  {
   "cell_type": "code",
   "execution_count": 27,
   "metadata": {},
   "outputs": [
    {
     "name": "stderr",
     "output_type": "stream",
     "text": [
      "C:\\Users\\apere\\anaconda3\\lib\\site-packages\\sklearn\\utils\\deprecation.py:87: FutureWarning: Function plot_roc_curve is deprecated; Function :func:`plot_roc_curve` is deprecated in 1.0 and will be removed in 1.2. Use one of the class methods: :meth:`sklearn.metric.RocCurveDisplay.from_predictions` or :meth:`sklearn.metric.RocCurveDisplay.from_estimator`.\n",
      "  warnings.warn(msg, category=FutureWarning)\n"
     ]
    },
    {
     "data": {
      "image/png": "[encoded data removed]",
      "text/plain": [
       "<Figure size 640x480 with 1 Axes>"
      ]
     },
     "metadata": {},
     "output_type": "display_data"
    }
   ],
   "source": [
    "metrics.plot_roc_curve(bagging, X_test, y_test)\n",
    "\n",
    "plt.show()"
   ]
  },
  {
   "cell_type": "markdown",
   "metadata": {},
   "source": [
    "### Emsemble Method 2: Boosting\n",
    "\n",
    "#### Q5. Develop a boosting model (with 100 decision trees) on the training set and evaluate the model using the test set. What is the model performance? \n",
    "\n",
    "To answer this question, you need to create a boosting model using **AdaBoostClassifier** (with **n_estimator = 100**,**random_state= 0**), and apply it on the test using **.predict** method, and evaluate it using accuracy and AUC.\n",
    "\n",
    "1. First, create a boosting classifier using AdaBoostClassifier() and apply it on the test set\n",
    "\n",
    "##### code for reference\n",
    "\n",
    "from sklearn.ensemble import AdaBoostClassifier\n",
    "\n",
    "boost = AdaBoostClassifier(n_estimators=100, random_state=0)\n",
    "\n",
    "boost.fit(X_train, y_train)\n",
    "\n",
    "y_boost_pred = boost.predict(X_test)\n",
    "\n",
    "print(\"Accuracy on test set: {:.3f}\".format(accuracy_score(y_boost_pred, y_test)))"
   ]
  },
  {
   "cell_type": "code",
   "execution_count": 33,
   "metadata": {},
   "outputs": [
    {
     "name": "stdout",
     "output_type": "stream",
     "text": [
      "Accuracy on test set: 0.770\n"
     ]
    }
   ],
   "source": [
    "from sklearn.ensemble import AdaBoostClassifier\n",
    "\n",
    "boost = AdaBoostClassifier(n_estimators=100, random_state=0)\n",
    "\n",
    "boost.fit(X_train, y_train)\n",
    "\n",
    "y_boost_pred = boost.predict(X_test)\n",
    "\n",
    "print(\"Accuracy on test set: {:.3f}\".format(accuracy_score(y_boost_pred, y_test)))"
   ]
  },
  {
   "cell_type": "markdown",
   "metadata": {},
   "source": [
    "2. Then we get the AUC for the boosting classifer using **plot_roc_curve**."
   ]
  },
  {
   "cell_type": "code",
   "execution_count": 35,
   "metadata": {},
   "outputs": [
    {
     "name": "stderr",
     "output_type": "stream",
     "text": [
      "C:\\Users\\apere\\anaconda3\\lib\\site-packages\\sklearn\\utils\\deprecation.py:87: FutureWarning: Function plot_roc_curve is deprecated; Function :func:`plot_roc_curve` is deprecated in 1.0 and will be removed in 1.2. Use one of the class methods: :meth:`sklearn.metric.RocCurveDisplay.from_predictions` or :meth:`sklearn.metric.RocCurveDisplay.from_estimator`.\n",
      "  warnings.warn(msg, category=FutureWarning)\n"
     ]
    },
    {
     "data": {
      "image/png": "[encoded data removed]",
      "text/plain": [
       "<Figure size 640x480 with 1 Axes>"
      ]
     },
     "metadata": {},
     "output_type": "display_data"
    }
   ],
   "source": [
    "metrics.plot_roc_curve(boost, X_test, y_test)\n",
    "\n",
    "plt.show()"
   ]
  },
  {
   "cell_type": "markdown",
   "metadata": {},
   "source": [
    "### Emsemble Method 3: Random Forest\n",
    "\n",
    "#### Q6. Develop a random forest model (with 100 decision trees) on the training set and evaluate the model using the test set. What is the model performance? \n",
    "\n",
    "To answer this question, you need to create a random forest model using **RandomForestClassifier** (with **n_estimator = 1000**, **random_state= 0**), and apply it on the test using **.predict** method, and evaluate it using accuracy and AUC.\n",
    "\n",
    "1. First, create a random forest classifier using RandomForestClassifier() and apply it on the test set.\n",
    "\n",
    "##### code for reference\n",
    "\n",
    "from sklearn.ensemble import RandomForestClassifier\n",
    "\n",
    "forest = RandomForestClassifier(n_estimators=1000, random_state=0)\n",
    "\n",
    "forest.fit(X_train, y_train)\n",
    "\n",
    "y_rf_pred = forest.predict(X_test)\n",
    "\n",
    "print(\"Random Forest Accuracy on test set: {:.3f}\".format(accuracy_score(y_test, y_rf_pred)))"
   ]
  },
  {
   "cell_type": "code",
   "execution_count": 36,
   "metadata": {
    "colab": {
     "base_uri": "https://localhost:8080/",
     "height": 52
    },
    "executionInfo": {
     "elapsed": 385,
     "status": "ok",
     "timestamp": 1601527368397,
     "user": {
      "displayName": "Xiqing Sha",
      "photoUrl": "",
      "userId": "00149820978001691006"
     },
     "user_tz": 420
    },
    "id": "eUqVrtfCQIhz",
    "outputId": "4c9a5aec-f98d-4866-b505-d315d96d8141"
   },
   "outputs": [
    {
     "name": "stdout",
     "output_type": "stream",
     "text": [
      "Random Forest Accuracy on test set: 0.765\n"
     ]
    }
   ],
   "source": [
    "from sklearn.ensemble import RandomForestClassifier\n",
    "\n",
    "forest = RandomForestClassifier(n_estimators=1000, random_state=0)\n",
    "\n",
    "forest.fit(X_train, y_train)\n",
    "\n",
    "y_rf_pred = forest.predict(X_test)\n",
    "\n",
    "print(\"Random Forest Accuracy on test set: {:.3f}\".format(accuracy_score(y_test, y_rf_pred)))"
   ]
  },
  {
   "cell_type": "markdown",
   "metadata": {},
   "source": [
    "2. Then we get the AUC for the random forest classifer using **plot_roc_curve**."
   ]
  },
  {
   "cell_type": "code",
   "execution_count": 37,
   "metadata": {},
   "outputs": [
    {
     "name": "stderr",
     "output_type": "stream",
     "text": [
      "C:\\Users\\apere\\anaconda3\\lib\\site-packages\\sklearn\\utils\\deprecation.py:87: FutureWarning: Function plot_roc_curve is deprecated; Function :func:`plot_roc_curve` is deprecated in 1.0 and will be removed in 1.2. Use one of the class methods: :meth:`sklearn.metric.RocCurveDisplay.from_predictions` or :meth:`sklearn.metric.RocCurveDisplay.from_estimator`.\n",
      "  warnings.warn(msg, category=FutureWarning)\n"
     ]
    },
    {
     "data": {
      "image/png": "[encoded data removed]",
      "text/plain": [
       "<Figure size 640x480 with 1 Axes>"
      ]
     },
     "metadata": {},
     "output_type": "display_data"
    }
   ],
   "source": [
    "metrics.plot_roc_curve(forest, X_test, y_test)\n",
    "\n",
    "plt.show()"
   ]
  },
  {
   "cell_type": "markdown",
   "metadata": {},
   "source": [
    "#### Q7. Based on the random forest model, which of the following is the most important feature in predicting the target variable?\n",
    "\n",
    "\n",
    "To answer this questio, you need to get the importance of each variable which have been saved in **feature_importance_**.\n",
    "\n",
    "##### code for reference\n",
    "\n",
    "importances = forest.feature_importances_\n",
    "\n",
    "df = pd.DataFrame({'feature': X_train.columns, 'importance': importances})\n",
    "\n",
    "df = df.sort_values('importance')\n",
    "\n",
    "print(df)\n",
    "\n"
   ]
  },
  {
   "cell_type": "code",
   "execution_count": 38,
   "metadata": {},
   "outputs": [
    {
     "name": "stdout",
     "output_type": "stream",
     "text": [
      "                    feature  importance\n",
      "21              purpose_A48    0.001737\n",
      "15             purpose_A410    0.002645\n",
      "18              purpose_A44    0.003130\n",
      "19              purpose_A45    0.005668\n",
      "25      savings_balance_A64    0.007269\n",
      "31        other_credit_A142    0.009528\n",
      "24      savings_balance_A63    0.009597\n",
      "34             housing_A153    0.009988\n",
      "20              purpose_A46    0.011386\n",
      "23      savings_balance_A62    0.011644\n",
      "22              purpose_A49    0.012295\n",
      "12       credit_history_A33    0.012547\n",
      "8      checking_balance_A13    0.012949\n",
      "29  employment_duration_A74    0.014069\n",
      "37                 job_A174    0.014574\n",
      "14              purpose_A41    0.015595\n",
      "35                 job_A172    0.015615\n",
      "6                dependents    0.016054\n",
      "30  employment_duration_A75    0.016573\n",
      "16              purpose_A42    0.017283\n",
      "11       credit_history_A32    0.017431\n",
      "28  employment_duration_A73    0.018203\n",
      "10       credit_history_A31    0.018878\n",
      "36                 job_A173    0.018904\n",
      "27  employment_duration_A72    0.019264\n",
      "26      savings_balance_A65    0.019882\n",
      "17              purpose_A43    0.020067\n",
      "7      checking_balance_A12    0.021254\n",
      "33             housing_A152    0.021878\n",
      "32        other_credit_A143    0.022411\n",
      "38               phone_A192    0.023109\n",
      "5      existing_loans_count    0.023235\n",
      "13       credit_history_A34    0.024321\n",
      "3        years_at_residence    0.042047\n",
      "2         percent_of_income    0.044770\n",
      "9      checking_balance_A14    0.068948\n",
      "4                       age    0.105429\n",
      "0      months_loan_duration    0.109518\n",
      "1                    amount    0.140305\n"
     ]
    }
   ],
   "source": [
    "importances = forest.feature_importances_\n",
    "\n",
    "df = pd.DataFrame({'feature': X_train.columns, 'importance': importances})\n",
    "\n",
    "df = df.sort_values('importance')\n",
    "\n",
    "print(df)"
   ]
  },
  {
   "cell_type": "markdown",
   "metadata": {
    "id": "SF_tYkbKeU1u"
   },
   "source": [
    "# Step 5: Grid Search\n",
    "\n",
    "In this step we will improve the model’s performance by tuning its parameters.\n",
    "\n",
    "#### Q8. Apply a hyperparameter tuning model using GridSearch algorithm on the training set and evaluate the model using the test set. What is the model performance??\n",
    "\n",
    "To answer this question, use **GridSearchCV()** (set **random_state =0**)to tune the parameters in the decision tree model.The parameters we will tuned include: **criterion (gini or entropy)**, **max_leaf_nodes (ranges from 2 to 50)**, **max_depth(ranges from 3 to 15)**. In addition we perform cross validation as well.\n",
    "\n",
    "1. first we define a combination of parameters and apply them to the decision tree model.\n",
    "\n",
    "##### code for reference\n",
    "\n",
    "import numpy as np\n",
    "\n",
    "from sklearn.model_selection import GridSearchCV\n",
    "\n",
    "params = {'criterion':['gini','entropy'],'max_leaf_nodes': list(range(2, 50)), 'max_depth': np.arange(3, 15)}\n",
    "\n",
    "tree_grid = GridSearchCV(DecisionTreeClassifier(random_state=0), params, cv=10)\n",
    "\n",
    "tree_grid.fit(X_train, y_train)"
   ]
  },
  {
   "cell_type": "code",
   "execution_count": 39,
   "metadata": {
    "colab": {
     "base_uri": "https://localhost:8080/",
     "height": 381
    },
    "executionInfo": {
     "elapsed": 40020,
     "status": "ok",
     "timestamp": 1601701056591,
     "user": {
      "displayName": "Xiqing Sha",
      "photoUrl": "",
      "userId": "00149820978001691006"
     },
     "user_tz": 420
    },
    "id": "2bE44VTmfCEz",
    "outputId": "a309580d-3cbc-4b92-ce08-797d8a6a5d9d"
   },
   "outputs": [
    {
     "data": {
      "text/plain": [
       "GridSearchCV(cv=10, estimator=DecisionTreeClassifier(random_state=0),\n",
       "             param_grid={'criterion': ['gini', 'entropy'],\n",
       "                         'max_depth': array([ 3,  4,  5,  6,  7,  8,  9, 10, 11, 12, 13, 14]),\n",
       "                         'max_leaf_nodes': [2, 3, 4, 5, 6, 7, 8, 9, 10, 11, 12,\n",
       "                                            13, 14, 15, 16, 17, 18, 19, 20, 21,\n",
       "                                            22, 23, 24, 25, 26, 27, 28, 29, 30,\n",
       "                                            31, ...]})"
      ]
     },
     "execution_count": 39,
     "metadata": {},
     "output_type": "execute_result"
    }
   ],
   "source": [
    "import numpy as np\n",
    "\n",
    "from sklearn.model_selection import GridSearchCV\n",
    "\n",
    "params = {'criterion':['gini','entropy'],'max_leaf_nodes': list(range(2, 50)), 'max_depth': np.arange(3, 15)}\n",
    "\n",
    "tree_grid = GridSearchCV(DecisionTreeClassifier(random_state=0), params, cv=10)\n",
    "\n",
    "tree_grid.fit(X_train, y_train)"
   ]
  },
  {
   "cell_type": "markdown",
   "metadata": {
    "id": "kXmK3-ZMhnBC"
   },
   "source": [
    "#### Q9. What is the value of max_depth of the best model returned by hyperparameter tuning?\n",
    "\n",
    "To answer this question, we can get the parameters of the best model using **best_estimator_** attribute.\n",
    "\n",
    "##### code for reference\n",
    "\n",
    "tree_grid.best_estimator_"
   ]
  },
  {
   "cell_type": "code",
   "execution_count": 40,
   "metadata": {
    "colab": {
     "base_uri": "https://localhost:8080/",
     "height": 121
    },
    "executionInfo": {
     "elapsed": 383,
     "status": "ok",
     "timestamp": 1601701076009,
     "user": {
      "displayName": "Xiqing Sha",
      "photoUrl": "",
      "userId": "00149820978001691006"
     },
     "user_tz": 420
    },
    "id": "KsVUefrKhncO",
    "outputId": "b5fad147-b986-4ba2-f0e7-47450a0d92dc"
   },
   "outputs": [
    {
     "data": {
      "text/plain": [
       "DecisionTreeClassifier(max_depth=10, max_leaf_nodes=17, random_state=0)"
      ]
     },
     "execution_count": 40,
     "metadata": {},
     "output_type": "execute_result"
    }
   ],
   "source": [
    "tree_grid.best_estimator_"
   ]
  },
  {
   "cell_type": "markdown",
   "metadata": {},
   "source": [
    "3. Then we apply this model on the test set and get the accuracy.\n",
    "\n",
    "##### code for reference\n",
    "y_pred_grid = tree_grid.predict(X_test)\n",
    "\n",
    "print(\"Grid-search Model Accuracy on test set: {:.3f}\".format(accuracy_score(y_test, y_pred_grid)))"
   ]
  },
  {
   "cell_type": "code",
   "execution_count": 42,
   "metadata": {
    "colab": {
     "base_uri": "https://localhost:8080/",
     "height": 559
    },
    "executionInfo": {
     "elapsed": 899,
     "status": "ok",
     "timestamp": 1601700796227,
     "user": {
      "displayName": "Xiqing Sha",
      "photoUrl": "",
      "userId": "00149820978001691006"
     },
     "user_tz": 420
    },
    "id": "xtUDodfTh5Cm",
    "outputId": "b5aed775-b917-49cb-9963-2d65cc5a4c11"
   },
   "outputs": [
    {
     "name": "stdout",
     "output_type": "stream",
     "text": [
      "Grid-search Model Accuracy on test set: 0.740\n"
     ]
    }
   ],
   "source": [
    "y_pred_grid = tree_grid.predict(X_test)\n",
    "\n",
    "print(\"Grid-search Model Accuracy on test set: {:.3f}\".format(accuracy_score(y_test, y_pred_grid)))\n"
   ]
  },
  {
   "cell_type": "markdown",
   "metadata": {},
   "source": [
    "4. Lastly we visualize ROC curve and estimate the AUC value."
   ]
  },
  {
   "cell_type": "code",
   "execution_count": 44,
   "metadata": {},
   "outputs": [
    {
     "data": {
      "image/png": "[encoded data removed]",
      "text/plain": [
       "<Figure size 640x480 with 1 Axes>"
      ]
     },
     "metadata": {},
     "output_type": "display_data"
    }
   ],
   "source": [
    "metrics.plot_roc_curve(tree_grid, X_test, y_test)\n",
    "\n",
    "plt.show()"
   ]
  },
  {
   "cell_type": "markdown",
   "metadata": {},
   "source": [
    "#### Q10. Which model performs the best (using AUC as the evaluation metric)?\n",
    "\n",
    "To answer this question, you need to compare the models created and select the one with highest AUC."
   ]
  }
 ],
 "metadata": {
  "colab": {
   "authorship_tag": "ABX9TyO/KY3gsEBKmU0EWBjMggrA",
   "name": "Model Evaluation and Improvement.ipynb",
   "provenance": []
  },
  "kernelspec": {
   "display_name": "Python 3 (ipykernel)",
   "language": "python",
   "name": "python3"
  },
  "language_info": {
   "codemirror_mode": {
    "name": "ipython",
    "version": 3
   },
   "file_extension": ".py",
   "mimetype": "text/x-python",
   "name": "python",
   "nbconvert_exporter": "python",
   "pygments_lexer": "ipython3",
   "version": "3.9.13"
  }
 },
 "nbformat": 4,
 "nbformat_minor": 1
}
